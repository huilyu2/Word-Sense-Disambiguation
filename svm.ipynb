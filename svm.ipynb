{
 "cells": [
  {
   "cell_type": "markdown",
   "metadata": {},
   "source": [
    "# CIS520 Group Project\n",
    "## SVM\n",
    "### Author: Hui Lyu"
   ]
  },
  {
   "cell_type": "code",
   "execution_count": 1,
   "metadata": {},
   "outputs": [],
   "source": [
    "%matplotlib inline"
   ]
  },
  {
   "cell_type": "code",
   "execution_count": 2,
   "metadata": {
    "scrolled": true
   },
   "outputs": [
    {
     "name": "stderr",
     "output_type": "stream",
     "text": [
      "/Users/huilyu/anaconda3/lib/python3.6/site-packages/sklearn/cross_validation.py:41: DeprecationWarning: This module was deprecated in version 0.18 in favor of the model_selection module into which all the refactored classes and functions are moved. Also note that the interface of the new CV iterators are different from that of this module. This module will be removed in 0.20.\n",
      "  \"This module will be removed in 0.20.\", DeprecationWarning)\n",
      "/Users/huilyu/anaconda3/lib/python3.6/site-packages/sklearn/grid_search.py:42: DeprecationWarning: This module was deprecated in version 0.18 in favor of the model_selection module into which all the refactored classes and functions are moved. This module will be removed in 0.20.\n",
      "  DeprecationWarning)\n"
     ]
    }
   ],
   "source": [
    "import os\n",
    "import numpy as np\n",
    "import matplotlib.pyplot as plt\n",
    "from sklearn import svm, grid_search\n",
    "from sklearn.metrics import accuracy_score\n",
    "from sklearn.decomposition import PCA\n",
    "from sklearn.utils import resample\n",
    "from collections import Counter\n",
    "from sklearn.model_selection import StratifiedKFold\n",
    "from sklearn.metrics import f1_score\n",
    "from sklearn.metrics import classification_report\n",
    "from collections import OrderedDict"
   ]
  },
  {
   "cell_type": "code",
   "execution_count": 30,
   "metadata": {},
   "outputs": [],
   "source": [
    "X_train = {}\n",
    "X_test = {}\n",
    "Y_train = {}\n",
    "Y_test = {}"
   ]
  },
  {
   "cell_type": "code",
   "execution_count": 31,
   "metadata": {},
   "outputs": [],
   "source": [
    "path_Xtrain = \"/Users/huilyu/Documents/Penn CIS/CIS 520 Spring 2018/Project/word_pos_large/X_train/\"  \n",
    "path_Xtest = \"/Users/huilyu/Documents/Penn CIS/CIS 520 Spring 2018/Project/word_pos_large/X_test/\"\n",
    "path_Ytrain = \"/Users/huilyu/Documents/Penn CIS/CIS 520 Spring 2018/Project/word_pos_large/Y_train/\"\n",
    "path_Ytest = \"/Users/huilyu/Documents/Penn CIS/CIS 520 Spring 2018/Project/word_pos_large/Y_test/\""
   ]
  },
  {
   "cell_type": "code",
   "execution_count": 32,
   "metadata": {},
   "outputs": [
    {
     "data": {
      "text/plain": [
       "['seem.txt', 'have.txt', 'result.txt', 'more.txt', 'be.txt', 'child.txt']"
      ]
     },
     "execution_count": 32,
     "metadata": {},
     "output_type": "execute_result"
    }
   ],
   "source": [
    "# Reload upsampled dataset\n",
    "all_words = os.listdir(path_Xtest)\n",
    "all_words"
   ]
  },
  {
   "cell_type": "code",
   "execution_count": 33,
   "metadata": {},
   "outputs": [],
   "source": [
    "for word in all_words:\n",
    "    X_train[word] = np.loadtxt(path_Xtrain+word, delimiter = \",\")\n",
    "    Y_train[word] = np.loadtxt(path_Ytrain+word, delimiter = \",\")\n",
    "    X_test[word] = np.loadtxt(path_Xtest+word, delimiter = \",\")\n",
    "    Y_test[word] = np.loadtxt(path_Ytest+word, delimiter = \",\")"
   ]
  },
  {
   "cell_type": "code",
   "execution_count": 35,
   "metadata": {},
   "outputs": [
    {
     "data": {
      "text/plain": [
       "6"
      ]
     },
     "execution_count": 35,
     "metadata": {},
     "output_type": "execute_result"
    }
   ],
   "source": [
    "len(X_test)"
   ]
  },
  {
   "cell_type": "code",
   "execution_count": 37,
   "metadata": {},
   "outputs": [],
   "source": [
    "# Cross-Validation for tuning parameters\n",
    "\n",
    "Cs = [0.01, 0.1, 1, 10, 100]\n",
    "gammas = [0.0001, 0.001, 0.01, 0.1, 1, 10]\n",
    "degrees = [2, 3, 4, 5]\n",
    "\n",
    "C_lin_dict = {}\n",
    "C_rbf_dict = {}\n",
    "C_poly_dict = {}\n",
    "gamma_dict = {}\n",
    "degree_dict = {}\n",
    "\n",
    "param_grid_rbf = {'C': Cs, 'gamma' : gammas}\n",
    "param_grid_poly = {'C': Cs, 'degree' : degrees}\n",
    "param_grid = {'C': Cs}\n",
    "\n",
    "# stratified k fold as default\n",
    "grid_linear = grid_search.GridSearchCV(svm.SVC(kernel='linear'), param_grid, cv=3)\n",
    "grid_rbf = grid_search.GridSearchCV(svm.SVC(kernel='rbf'), param_grid_rbf, cv=3)\n",
    "grid_poly = grid_search.GridSearchCV(svm.SVC(kernel='poly'), param_grid_poly, cv=3)"
   ]
  },
  {
   "cell_type": "code",
   "execution_count": 38,
   "metadata": {},
   "outputs": [],
   "source": [
    "# RBF SVM models\n",
    "rbf_svc = {}\n",
    "\n",
    "for word in all_words:\n",
    "    grid_rbf.fit(X_train[word], Y_train[word])\n",
    "    C_rbf_dict[word] = grid_rbf.best_params_['C']\n",
    "    gamma_dict[word] = grid_rbf.best_params_['gamma']\n",
    "    rbf_svc[word] = svm.SVC(kernel='rbf', C=C_rbf_dict[word], gamma=gamma_dict[word]).fit(X_train[word], Y_train[word])\n",
    "#    rbf_svc[word] = svm.SVC(kernel='rbf', gamma=0.01).fit(trainX[word], trainY[word])"
   ]
  },
  {
   "cell_type": "code",
   "execution_count": 39,
   "metadata": {},
   "outputs": [],
   "source": [
    "# Linear SVM models\n",
    "lin_svc = {}\n",
    "\n",
    "for word in all_words:\n",
    "    grid_linear.fit(X_train[word], Y_train[word])\n",
    "    C_lin_dict[word] = grid_linear.best_params_['C']\n",
    "    lin_svc[word] = svm.SVC(kernel='linear', C=C_lin_dict[word]).fit(X_train[word], Y_train[word])\n",
    "#    lin_svc[word] = svm.SVC(kernel='linear').fit(trainX[word], trainY[word])"
   ]
  },
  {
   "cell_type": "code",
   "execution_count": 40,
   "metadata": {},
   "outputs": [],
   "source": [
    "# Poly degree SVM modesl\n",
    "poly_svc = {}\n",
    "\n",
    "for word in all_words:\n",
    "    grid_poly.fit(X_train[word], Y_train[word])\n",
    "    C_poly_dict[word] = grid_poly.best_params_['C']\n",
    "    degree_dict[word] = grid_poly.best_params_['degree']\n",
    "    poly_svc[word] = svm.SVC(kernel='poly', C=C_poly_dict[word], degree=degree_dict[word]).fit(X_train[word], Y_train[word])    \n",
    "#    poly_svc[word] = svm.SVC(kernel='poly', degree=3).fit(trainX[word], trainY[word])"
   ]
  },
  {
   "cell_type": "code",
   "execution_count": 41,
   "metadata": {},
   "outputs": [
    {
     "data": {
      "text/plain": [
       "{'seem.txt': 0.8983050847457628,\n",
       " 'have.txt': 0.5573770491803278,\n",
       " 'result.txt': 0.8235294117647058,\n",
       " 'more.txt': 0.8045112781954887,\n",
       " 'be.txt': 0.6524621212121212,\n",
       " 'child.txt': 0.5952380952380952}"
      ]
     },
     "execution_count": 41,
     "metadata": {},
     "output_type": "execute_result"
    }
   ],
   "source": [
    "lin_accuracy = {}\n",
    "lin_y_pred = {}\n",
    "for word in all_words:\n",
    "    lin_y_pred[word] = lin_svc[word].predict(X_test[word])\n",
    "    lin_accuracy[word] = accuracy_score(Y_test[word], lin_y_pred[word])\n",
    "lin_accuracy"
   ]
  },
  {
   "cell_type": "code",
   "execution_count": 42,
   "metadata": {},
   "outputs": [
    {
     "data": {
      "text/plain": [
       "{'seem.txt': 0.8983050847457628,\n",
       " 'have.txt': 0.5717213114754098,\n",
       " 'result.txt': 0.7058823529411765,\n",
       " 'more.txt': 0.7518796992481203,\n",
       " 'be.txt': 0.6553030303030303,\n",
       " 'child.txt': 0.7142857142857143}"
      ]
     },
     "execution_count": 42,
     "metadata": {},
     "output_type": "execute_result"
    }
   ],
   "source": [
    "rbf_accuracy = {}\n",
    "rbf_y_pred = {}\n",
    "for word in all_words:\n",
    "    rbf_y_pred[word] = rbf_svc[word].predict(X_test[word])\n",
    "    rbf_accuracy[word] = accuracy_score(Y_test[word], rbf_y_pred[word])\n",
    "rbf_accuracy"
   ]
  },
  {
   "cell_type": "code",
   "execution_count": 43,
   "metadata": {},
   "outputs": [
    {
     "data": {
      "text/plain": [
       "{'seem.txt': 0.8898305084745762,\n",
       " 'have.txt': 0.5532786885245902,\n",
       " 'result.txt': 0.7058823529411765,\n",
       " 'more.txt': 0.7894736842105263,\n",
       " 'be.txt': 0.6527777777777778,\n",
       " 'child.txt': 0.7142857142857143}"
      ]
     },
     "execution_count": 43,
     "metadata": {},
     "output_type": "execute_result"
    }
   ],
   "source": [
    "poly_accuracy = {}\n",
    "poly_y_pred = {}\n",
    "for word in all_words:\n",
    "    poly_y_pred[word] = poly_svc[word].predict(X_test[word])\n",
    "    poly_accuracy[word] = accuracy_score(Y_test[word], poly_y_pred[word])\n",
    "poly_accuracy"
   ]
  },
  {
   "cell_type": "code",
   "execution_count": 44,
   "metadata": {},
   "outputs": [
    {
     "name": "stderr",
     "output_type": "stream",
     "text": [
      "/Users/huilyu/anaconda3/lib/python3.6/site-packages/sklearn/metrics/classification.py:1135: UndefinedMetricWarning: F-score is ill-defined and being set to 0.0 in labels with no predicted samples.\n",
      "  'precision', 'predicted', average, warn_for)\n"
     ]
    }
   ],
   "source": [
    "lin_f1 = {}\n",
    "rbf_f1 = {}\n",
    "poly_f1 = {}\n",
    "for word in all_words:\n",
    "    lin_f1[word] = f1_score(Y_test[word], lin_y_pred[word], average='weighted')\n",
    "    rbf_f1[word] = f1_score(Y_test[word], rbf_y_pred[word], average='weighted')\n",
    "    poly_f1[word] = f1_score(Y_test[word], poly_y_pred[word], average='weighted')"
   ]
  },
  {
   "cell_type": "code",
   "execution_count": 45,
   "metadata": {},
   "outputs": [
    {
     "data": {
      "text/plain": [
       "OrderedDict([('be.txt', 0.5803507738580522),\n",
       "             ('child.txt', 0.5575477154424523),\n",
       "             ('have.txt', 0.4222914152438617),\n",
       "             ('more.txt', 0.7378117009695957),\n",
       "             ('result.txt', 0.8225140331940498),\n",
       "             ('seem.txt', 0.8798493408662899)])"
      ]
     },
     "execution_count": 45,
     "metadata": {},
     "output_type": "execute_result"
    }
   ],
   "source": [
    "OrderedDict(sorted(lin_f1.items()))"
   ]
  },
  {
   "cell_type": "code",
   "execution_count": 46,
   "metadata": {},
   "outputs": [
    {
     "data": {
      "text/plain": [
       "[0.5803507738580522,\n",
       " 0.5575477154424523,\n",
       " 0.4222914152438617,\n",
       " 0.7378117009695957,\n",
       " 0.8225140331940498,\n",
       " 0.8798493408662899]"
      ]
     },
     "execution_count": 46,
     "metadata": {},
     "output_type": "execute_result"
    }
   ],
   "source": [
    "list(OrderedDict(sorted(lin_f1.items())).values())"
   ]
  },
  {
   "cell_type": "code",
   "execution_count": 47,
   "metadata": {},
   "outputs": [],
   "source": [
    "path = \"/Users/huilyu/Documents/Penn CIS/CIS 520 Spring 2018/Project/word_pos_large/\"\n",
    "\n",
    "np.savetxt(path + 'f1-LinearSVM.txt', np.array(list(OrderedDict(sorted(lin_f1.items())).values())), delimiter=',')\n",
    "\n",
    "np.savetxt(path + 'f1-RBFSVM.txt', np.array(list(OrderedDict(sorted(rbf_f1.items())).values())), delimiter=',')\n",
    "\n",
    "np.savetxt(path + 'f1-PolySVM.txt', np.array(list(OrderedDict(sorted(poly_f1.items())).values())), delimiter=',')\n",
    "\n",
    "np.savetxt(path + 'accuracy-LinearSVM.txt', np.array(list(OrderedDict(sorted(lin_accuracy.items())).values())), delimiter=',')\n",
    "\n",
    "np.savetxt(path + 'accuracy-RBFSVM.txt', np.array(list(OrderedDict(sorted(rbf_accuracy.items())).values())), delimiter=',')\n",
    "\n",
    "np.savetxt(path + 'accuracy-PolySVM.txt', np.array(list(OrderedDict(sorted(poly_accuracy.items())).values())), delimiter=',')"
   ]
  },
  {
   "cell_type": "code",
   "execution_count": 48,
   "metadata": {},
   "outputs": [
    {
     "data": {
      "text/plain": [
       "OrderedDict([('be.txt', 0.5689688736904099),\n",
       "             ('child.txt', 0.5952380952380951),\n",
       "             ('have.txt', 0.4397614306443148),\n",
       "             ('more.txt', 0.7340686274509804),\n",
       "             ('result.txt', 0.653874883286648),\n",
       "             ('seem.txt', 0.8798493408662899)])"
      ]
     },
     "execution_count": 48,
     "metadata": {},
     "output_type": "execute_result"
    }
   ],
   "source": [
    "OrderedDict(sorted(rbf_f1.items()))"
   ]
  },
  {
   "cell_type": "code",
   "execution_count": 49,
   "metadata": {},
   "outputs": [
    {
     "data": {
      "text/plain": [
       "OrderedDict([('be.txt', 0.559531462918507),\n",
       "             ('child.txt', 0.5952380952380951),\n",
       "             ('have.txt', 0.41686499020292633),\n",
       "             ('more.txt', 0.7191410959832013),\n",
       "             ('result.txt', 0.6720042740803986),\n",
       "             ('seem.txt', 0.8660223549579251)])"
      ]
     },
     "execution_count": 49,
     "metadata": {},
     "output_type": "execute_result"
    }
   ],
   "source": [
    "OrderedDict(sorted(poly_f1.items()))"
   ]
  },
  {
   "cell_type": "code",
   "execution_count": 50,
   "metadata": {},
   "outputs": [
    {
     "data": {
      "text/plain": [
       "0.666727496595717"
      ]
     },
     "execution_count": 50,
     "metadata": {},
     "output_type": "execute_result"
    }
   ],
   "source": [
    "sum(lin_f1.values()) / len(lin_f1)"
   ]
  },
  {
   "cell_type": "code",
   "execution_count": 51,
   "metadata": {},
   "outputs": [
    {
     "data": {
      "text/plain": [
       "0.6452935418627895"
      ]
     },
     "execution_count": 51,
     "metadata": {},
     "output_type": "execute_result"
    }
   ],
   "source": [
    "sum(rbf_f1.values()) / len(rbf_f1)"
   ]
  },
  {
   "cell_type": "code",
   "execution_count": 52,
   "metadata": {},
   "outputs": [
    {
     "data": {
      "text/plain": [
       "0.6381337122301756"
      ]
     },
     "execution_count": 52,
     "metadata": {},
     "output_type": "execute_result"
    }
   ],
   "source": [
    "sum(poly_f1.values()) / len(poly_f1)"
   ]
  },
  {
   "cell_type": "code",
   "execution_count": 53,
   "metadata": {},
   "outputs": [
    {
     "data": {
      "text/plain": [
       "0.7162295321665356"
      ]
     },
     "execution_count": 53,
     "metadata": {},
     "output_type": "execute_result"
    }
   ],
   "source": [
    "sum(rbf_accuracy.values()) / len(rbf_accuracy)"
   ]
  },
  {
   "cell_type": "code",
   "execution_count": 54,
   "metadata": {},
   "outputs": [
    {
     "data": {
      "text/plain": [
       "0.7219038400560835"
      ]
     },
     "execution_count": 54,
     "metadata": {},
     "output_type": "execute_result"
    }
   ],
   "source": [
    "sum(lin_accuracy.values()) / len(lin_accuracy)"
   ]
  },
  {
   "cell_type": "code",
   "execution_count": 55,
   "metadata": {},
   "outputs": [
    {
     "data": {
      "text/plain": [
       "0.7175881210357269"
      ]
     },
     "execution_count": 55,
     "metadata": {},
     "output_type": "execute_result"
    }
   ],
   "source": [
    "sum(poly_accuracy.values()) / len(poly_accuracy)"
   ]
  }
 ],
 "metadata": {
  "kernelspec": {
   "display_name": "Python 3",
   "language": "python",
   "name": "python3"
  },
  "language_info": {
   "codemirror_mode": {
    "name": "ipython",
    "version": 3
   },
   "file_extension": ".py",
   "mimetype": "text/x-python",
   "name": "python",
   "nbconvert_exporter": "python",
   "pygments_lexer": "ipython3",
   "version": "3.6.5"
  }
 },
 "nbformat": 4,
 "nbformat_minor": 2
}
