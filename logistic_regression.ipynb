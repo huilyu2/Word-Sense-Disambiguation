{
 "cells": [
  {
   "cell_type": "code",
   "execution_count": 1,
   "metadata": {
    "scrolled": true
   },
   "outputs": [
    {
     "name": "stderr",
     "output_type": "stream",
     "text": [
      "C:\\ProgramData\\Anaconda3\\lib\\site-packages\\sklearn\\cross_validation.py:41: DeprecationWarning: This module was deprecated in version 0.18 in favor of the model_selection module into which all the refactored classes and functions are moved. Also note that the interface of the new CV iterators are different from that of this module. This module will be removed in 0.20.\n",
      "  \"This module will be removed in 0.20.\", DeprecationWarning)\n"
     ]
    },
    {
     "ename": "KeyboardInterrupt",
     "evalue": "",
     "output_type": "error",
     "traceback": [
      "\u001b[1;31m---------------------------------------------------------------------------\u001b[0m",
      "\u001b[1;31mKeyError\u001b[0m                                  Traceback (most recent call last)",
      "\u001b[1;32mC:\\ProgramData\\Anaconda3\\lib\\configparser.py\u001b[0m in \u001b[0;36m_unify_values\u001b[1;34m(self, section, vars)\u001b[0m\n\u001b[0;32m   1137\u001b[0m         \u001b[1;32mtry\u001b[0m\u001b[1;33m:\u001b[0m\u001b[1;33m\u001b[0m\u001b[0m\n\u001b[1;32m-> 1138\u001b[1;33m             \u001b[0msectiondict\u001b[0m \u001b[1;33m=\u001b[0m \u001b[0mself\u001b[0m\u001b[1;33m.\u001b[0m\u001b[0m_sections\u001b[0m\u001b[1;33m[\u001b[0m\u001b[0msection\u001b[0m\u001b[1;33m]\u001b[0m\u001b[1;33m\u001b[0m\u001b[0m\n\u001b[0m\u001b[0;32m   1139\u001b[0m         \u001b[1;32mexcept\u001b[0m \u001b[0mKeyError\u001b[0m\u001b[1;33m:\u001b[0m\u001b[1;33m\u001b[0m\u001b[0m\n",
      "\u001b[1;31mKeyError\u001b[0m: 'blas'",
      "\nDuring handling of the above exception, another exception occurred:\n",
      "\u001b[1;31mNoSectionError\u001b[0m                            Traceback (most recent call last)",
      "\u001b[1;32mC:\\ProgramData\\Anaconda3\\lib\\site-packages\\theano\\configparser.py\u001b[0m in \u001b[0;36mfetch_val_for_key\u001b[1;34m(key, delete_key)\u001b[0m\n\u001b[0;32m    167\u001b[0m         \u001b[1;32mtry\u001b[0m\u001b[1;33m:\u001b[0m\u001b[1;33m\u001b[0m\u001b[0m\n\u001b[1;32m--> 168\u001b[1;33m             \u001b[1;32mreturn\u001b[0m \u001b[0mtheano_cfg\u001b[0m\u001b[1;33m.\u001b[0m\u001b[0mget\u001b[0m\u001b[1;33m(\u001b[0m\u001b[0msection\u001b[0m\u001b[1;33m,\u001b[0m \u001b[0moption\u001b[0m\u001b[1;33m)\u001b[0m\u001b[1;33m\u001b[0m\u001b[0m\n\u001b[0m\u001b[0;32m    169\u001b[0m         \u001b[1;32mexcept\u001b[0m \u001b[0mConfigParser\u001b[0m\u001b[1;33m.\u001b[0m\u001b[0mInterpolationError\u001b[0m\u001b[1;33m:\u001b[0m\u001b[1;33m\u001b[0m\u001b[0m\n",
      "\u001b[1;32mC:\\ProgramData\\Anaconda3\\lib\\configparser.py\u001b[0m in \u001b[0;36mget\u001b[1;34m(self, section, option, raw, vars, fallback)\u001b[0m\n\u001b[0;32m    780\u001b[0m         \u001b[1;32mtry\u001b[0m\u001b[1;33m:\u001b[0m\u001b[1;33m\u001b[0m\u001b[0m\n\u001b[1;32m--> 781\u001b[1;33m             \u001b[0md\u001b[0m \u001b[1;33m=\u001b[0m \u001b[0mself\u001b[0m\u001b[1;33m.\u001b[0m\u001b[0m_unify_values\u001b[0m\u001b[1;33m(\u001b[0m\u001b[0msection\u001b[0m\u001b[1;33m,\u001b[0m \u001b[0mvars\u001b[0m\u001b[1;33m)\u001b[0m\u001b[1;33m\u001b[0m\u001b[0m\n\u001b[0m\u001b[0;32m    782\u001b[0m         \u001b[1;32mexcept\u001b[0m \u001b[0mNoSectionError\u001b[0m\u001b[1;33m:\u001b[0m\u001b[1;33m\u001b[0m\u001b[0m\n",
      "\u001b[1;32mC:\\ProgramData\\Anaconda3\\lib\\configparser.py\u001b[0m in \u001b[0;36m_unify_values\u001b[1;34m(self, section, vars)\u001b[0m\n\u001b[0;32m   1140\u001b[0m             \u001b[1;32mif\u001b[0m \u001b[0msection\u001b[0m \u001b[1;33m!=\u001b[0m \u001b[0mself\u001b[0m\u001b[1;33m.\u001b[0m\u001b[0mdefault_section\u001b[0m\u001b[1;33m:\u001b[0m\u001b[1;33m\u001b[0m\u001b[0m\n\u001b[1;32m-> 1141\u001b[1;33m                 \u001b[1;32mraise\u001b[0m \u001b[0mNoSectionError\u001b[0m\u001b[1;33m(\u001b[0m\u001b[0msection\u001b[0m\u001b[1;33m)\u001b[0m\u001b[1;33m\u001b[0m\u001b[0m\n\u001b[0m\u001b[0;32m   1142\u001b[0m         \u001b[1;31m# Update with the entry specific variables\u001b[0m\u001b[1;33m\u001b[0m\u001b[1;33m\u001b[0m\u001b[0m\n",
      "\u001b[1;31mNoSectionError\u001b[0m: No section: 'blas'",
      "\nDuring handling of the above exception, another exception occurred:\n",
      "\u001b[1;31mKeyError\u001b[0m                                  Traceback (most recent call last)",
      "\u001b[1;32mC:\\ProgramData\\Anaconda3\\lib\\site-packages\\theano\\configparser.py\u001b[0m in \u001b[0;36m__get__\u001b[1;34m(self, cls, type_, delete_key)\u001b[0m\n\u001b[0;32m    327\u001b[0m                 val_str = fetch_val_for_key(self.fullname,\n\u001b[1;32m--> 328\u001b[1;33m                                             delete_key=delete_key)\n\u001b[0m\u001b[0;32m    329\u001b[0m                 \u001b[0mself\u001b[0m\u001b[1;33m.\u001b[0m\u001b[0mis_default\u001b[0m \u001b[1;33m=\u001b[0m \u001b[1;32mFalse\u001b[0m\u001b[1;33m\u001b[0m\u001b[0m\n",
      "\u001b[1;32mC:\\ProgramData\\Anaconda3\\lib\\site-packages\\theano\\configparser.py\u001b[0m in \u001b[0;36mfetch_val_for_key\u001b[1;34m(key, delete_key)\u001b[0m\n\u001b[0;32m    171\u001b[0m     \u001b[1;32mexcept\u001b[0m \u001b[1;33m(\u001b[0m\u001b[0mConfigParser\u001b[0m\u001b[1;33m.\u001b[0m\u001b[0mNoOptionError\u001b[0m\u001b[1;33m,\u001b[0m \u001b[0mConfigParser\u001b[0m\u001b[1;33m.\u001b[0m\u001b[0mNoSectionError\u001b[0m\u001b[1;33m)\u001b[0m\u001b[1;33m:\u001b[0m\u001b[1;33m\u001b[0m\u001b[0m\n\u001b[1;32m--> 172\u001b[1;33m         \u001b[1;32mraise\u001b[0m \u001b[0mKeyError\u001b[0m\u001b[1;33m(\u001b[0m\u001b[0mkey\u001b[0m\u001b[1;33m)\u001b[0m\u001b[1;33m\u001b[0m\u001b[0m\n\u001b[0m\u001b[0;32m    173\u001b[0m \u001b[1;33m\u001b[0m\u001b[0m\n",
      "\u001b[1;31mKeyError\u001b[0m: 'blas.ldflags'",
      "\nDuring handling of the above exception, another exception occurred:\n",
      "\u001b[1;31mKeyboardInterrupt\u001b[0m                         Traceback (most recent call last)",
      "\u001b[1;32m<ipython-input-1-224dc789e975>\u001b[0m in \u001b[0;36m<module>\u001b[1;34m()\u001b[0m\n\u001b[0;32m      3\u001b[0m \u001b[1;32mfrom\u001b[0m \u001b[0msklearn\u001b[0m\u001b[1;33m.\u001b[0m\u001b[0mcross_validation\u001b[0m \u001b[1;32mimport\u001b[0m \u001b[0mKFold\u001b[0m\u001b[1;33m,\u001b[0m \u001b[0mStratifiedKFold\u001b[0m\u001b[1;33m,\u001b[0m \u001b[0mcross_val_score\u001b[0m\u001b[1;33m\u001b[0m\u001b[0m\n\u001b[0;32m      4\u001b[0m \u001b[1;32mfrom\u001b[0m \u001b[0msklearn\u001b[0m\u001b[1;33m.\u001b[0m\u001b[0mmetrics\u001b[0m \u001b[1;32mimport\u001b[0m \u001b[0maccuracy_score\u001b[0m\u001b[1;33m,\u001b[0m \u001b[0mf1_score\u001b[0m\u001b[1;33m\u001b[0m\u001b[0m\n\u001b[1;32m----> 5\u001b[1;33m \u001b[1;32mfrom\u001b[0m \u001b[0msknn\u001b[0m\u001b[1;33m.\u001b[0m\u001b[0mmlp\u001b[0m \u001b[1;32mimport\u001b[0m \u001b[0mRegressor\u001b[0m\u001b[1;33m,\u001b[0m \u001b[0mLayer\u001b[0m\u001b[1;33m,\u001b[0m \u001b[0mClassifier\u001b[0m\u001b[1;33m\u001b[0m\u001b[0m\n\u001b[0m\u001b[0;32m      6\u001b[0m \u001b[1;32mfrom\u001b[0m \u001b[0msklearn\u001b[0m\u001b[1;33m.\u001b[0m\u001b[0mgrid_search\u001b[0m \u001b[1;32mimport\u001b[0m \u001b[0mGridSearchCV\u001b[0m\u001b[1;33m\u001b[0m\u001b[0m\n\u001b[0;32m      7\u001b[0m \u001b[1;32mfrom\u001b[0m \u001b[0msknn\u001b[0m\u001b[1;33m.\u001b[0m\u001b[0mplatform\u001b[0m \u001b[1;32mimport\u001b[0m \u001b[0mgpu32\u001b[0m\u001b[1;33m\u001b[0m\u001b[0m\n",
      "\u001b[1;32mC:\\ProgramData\\Anaconda3\\lib\\site-packages\\sknn\\mlp.py\u001b[0m in \u001b[0;36m<module>\u001b[1;34m()\u001b[0m\n\u001b[0;32m     16\u001b[0m \u001b[1;33m\u001b[0m\u001b[0m\n\u001b[0;32m     17\u001b[0m \u001b[1;32mimport\u001b[0m \u001b[0mnumpy\u001b[0m\u001b[1;33m\u001b[0m\u001b[0m\n\u001b[1;32m---> 18\u001b[1;33m \u001b[1;32mimport\u001b[0m \u001b[0mtheano\u001b[0m\u001b[1;33m\u001b[0m\u001b[0m\n\u001b[0m\u001b[0;32m     19\u001b[0m \u001b[1;32mimport\u001b[0m \u001b[0msklearn\u001b[0m\u001b[1;33m.\u001b[0m\u001b[0mbase\u001b[0m\u001b[1;33m\u001b[0m\u001b[0m\n\u001b[0;32m     20\u001b[0m \u001b[1;32mimport\u001b[0m \u001b[0msklearn\u001b[0m\u001b[1;33m.\u001b[0m\u001b[0mpipeline\u001b[0m\u001b[1;33m\u001b[0m\u001b[0m\n",
      "\u001b[1;32mC:\\ProgramData\\Anaconda3\\lib\\site-packages\\theano\\__init__.py\u001b[0m in \u001b[0;36m<module>\u001b[1;34m()\u001b[0m\n\u001b[0;32m    122\u001b[0m \u001b[1;32mfrom\u001b[0m \u001b[0mtheano\u001b[0m\u001b[1;33m.\u001b[0m\u001b[0mprinting\u001b[0m \u001b[1;32mimport\u001b[0m \u001b[0mpprint\u001b[0m\u001b[1;33m,\u001b[0m \u001b[0mpp\u001b[0m\u001b[1;33m\u001b[0m\u001b[0m\n\u001b[0;32m    123\u001b[0m \u001b[1;33m\u001b[0m\u001b[0m\n\u001b[1;32m--> 124\u001b[1;33m from theano.scan_module import (scan, map, reduce, foldl, foldr, clone,\n\u001b[0m\u001b[0;32m    125\u001b[0m                                 scan_checkpoints)\n\u001b[0;32m    126\u001b[0m \u001b[1;33m\u001b[0m\u001b[0m\n",
      "\u001b[1;32mC:\\ProgramData\\Anaconda3\\lib\\site-packages\\theano\\scan_module\\__init__.py\u001b[0m in \u001b[0;36m<module>\u001b[1;34m()\u001b[0m\n\u001b[0;32m     39\u001b[0m \u001b[0m__contact__\u001b[0m \u001b[1;33m=\u001b[0m \u001b[1;34m\"Razvan Pascanu <r.pascanu@gmail>\"\u001b[0m\u001b[1;33m\u001b[0m\u001b[0m\n\u001b[0;32m     40\u001b[0m \u001b[1;33m\u001b[0m\u001b[0m\n\u001b[1;32m---> 41\u001b[1;33m \u001b[1;32mfrom\u001b[0m \u001b[0mtheano\u001b[0m\u001b[1;33m.\u001b[0m\u001b[0mscan_module\u001b[0m \u001b[1;32mimport\u001b[0m \u001b[0mscan_opt\u001b[0m\u001b[1;33m\u001b[0m\u001b[0m\n\u001b[0m\u001b[0;32m     42\u001b[0m \u001b[1;32mfrom\u001b[0m \u001b[0mtheano\u001b[0m\u001b[1;33m.\u001b[0m\u001b[0mscan_module\u001b[0m\u001b[1;33m.\u001b[0m\u001b[0mscan\u001b[0m \u001b[1;32mimport\u001b[0m \u001b[0mscan\u001b[0m\u001b[1;33m\u001b[0m\u001b[0m\n\u001b[0;32m     43\u001b[0m \u001b[1;32mfrom\u001b[0m \u001b[0mtheano\u001b[0m\u001b[1;33m.\u001b[0m\u001b[0mscan_module\u001b[0m\u001b[1;33m.\u001b[0m\u001b[0mscan_checkpoints\u001b[0m \u001b[1;32mimport\u001b[0m \u001b[0mscan_checkpoints\u001b[0m\u001b[1;33m\u001b[0m\u001b[0m\n",
      "\u001b[1;32mC:\\ProgramData\\Anaconda3\\lib\\site-packages\\theano\\scan_module\\scan_opt.py\u001b[0m in \u001b[0;36m<module>\u001b[1;34m()\u001b[0m\n\u001b[0;32m     58\u001b[0m \u001b[1;33m\u001b[0m\u001b[0m\n\u001b[0;32m     59\u001b[0m \u001b[1;32mimport\u001b[0m \u001b[0mtheano\u001b[0m\u001b[1;33m\u001b[0m\u001b[0m\n\u001b[1;32m---> 60\u001b[1;33m \u001b[1;32mfrom\u001b[0m \u001b[0mtheano\u001b[0m \u001b[1;32mimport\u001b[0m \u001b[0mtensor\u001b[0m\u001b[1;33m,\u001b[0m \u001b[0mscalar\u001b[0m\u001b[1;33m\u001b[0m\u001b[0m\n\u001b[0m\u001b[0;32m     61\u001b[0m \u001b[1;32mfrom\u001b[0m \u001b[0mtheano\u001b[0m\u001b[1;33m.\u001b[0m\u001b[0mtensor\u001b[0m \u001b[1;32mimport\u001b[0m \u001b[0mopt\u001b[0m\u001b[1;33m,\u001b[0m \u001b[0mget_scalar_constant_value\u001b[0m\u001b[1;33m,\u001b[0m \u001b[0mAlloc\u001b[0m\u001b[1;33m,\u001b[0m \u001b[0mAllocEmpty\u001b[0m\u001b[1;33m\u001b[0m\u001b[0m\n\u001b[0;32m     62\u001b[0m \u001b[1;32mfrom\u001b[0m \u001b[0mtheano\u001b[0m \u001b[1;32mimport\u001b[0m \u001b[0mgof\u001b[0m\u001b[1;33m\u001b[0m\u001b[0m\n",
      "\u001b[1;32mC:\\ProgramData\\Anaconda3\\lib\\site-packages\\theano\\tensor\\__init__.py\u001b[0m in \u001b[0;36m<module>\u001b[1;34m()\u001b[0m\n\u001b[0;32m     15\u001b[0m \u001b[1;32mfrom\u001b[0m \u001b[0mtheano\u001b[0m\u001b[1;33m.\u001b[0m\u001b[0mtensor\u001b[0m \u001b[1;32mimport\u001b[0m \u001b[0mopt\u001b[0m\u001b[1;33m\u001b[0m\u001b[0m\n\u001b[0;32m     16\u001b[0m \u001b[1;32mfrom\u001b[0m \u001b[0mtheano\u001b[0m\u001b[1;33m.\u001b[0m\u001b[0mtensor\u001b[0m \u001b[1;32mimport\u001b[0m \u001b[0mopt_uncanonicalize\u001b[0m\u001b[1;33m\u001b[0m\u001b[0m\n\u001b[1;32m---> 17\u001b[1;33m \u001b[1;32mfrom\u001b[0m \u001b[0mtheano\u001b[0m\u001b[1;33m.\u001b[0m\u001b[0mtensor\u001b[0m \u001b[1;32mimport\u001b[0m \u001b[0mblas\u001b[0m\u001b[1;33m\u001b[0m\u001b[0m\n\u001b[0m\u001b[0;32m     18\u001b[0m \u001b[1;32mfrom\u001b[0m \u001b[0mtheano\u001b[0m\u001b[1;33m.\u001b[0m\u001b[0mtensor\u001b[0m \u001b[1;32mimport\u001b[0m \u001b[0mblas_scipy\u001b[0m\u001b[1;33m\u001b[0m\u001b[0m\n\u001b[0;32m     19\u001b[0m \u001b[1;32mfrom\u001b[0m \u001b[0mtheano\u001b[0m\u001b[1;33m.\u001b[0m\u001b[0mtensor\u001b[0m \u001b[1;32mimport\u001b[0m \u001b[0mblas_c\u001b[0m\u001b[1;33m\u001b[0m\u001b[0m\n",
      "\u001b[1;32mC:\\ProgramData\\Anaconda3\\lib\\site-packages\\theano\\tensor\\blas.py\u001b[0m in \u001b[0;36m<module>\u001b[1;34m()\u001b[0m\n\u001b[0;32m    153\u001b[0m \u001b[1;32mfrom\u001b[0m \u001b[0mtheano\u001b[0m\u001b[1;33m.\u001b[0m\u001b[0mscalar\u001b[0m \u001b[1;32mimport\u001b[0m \u001b[0mbool\u001b[0m \u001b[1;32mas\u001b[0m \u001b[0mbool_t\u001b[0m\u001b[1;33m\u001b[0m\u001b[0m\n\u001b[0;32m    154\u001b[0m \u001b[1;32mfrom\u001b[0m \u001b[0mtheano\u001b[0m\u001b[1;33m.\u001b[0m\u001b[0mtensor\u001b[0m \u001b[1;32mimport\u001b[0m \u001b[0mbasic\u001b[0m \u001b[1;32mas\u001b[0m \u001b[0mT\u001b[0m\u001b[1;33m\u001b[0m\u001b[0m\n\u001b[1;32m--> 155\u001b[1;33m \u001b[1;32mfrom\u001b[0m \u001b[0mtheano\u001b[0m\u001b[1;33m.\u001b[0m\u001b[0mtensor\u001b[0m\u001b[1;33m.\u001b[0m\u001b[0mblas_headers\u001b[0m \u001b[1;32mimport\u001b[0m \u001b[0mblas_header_text\u001b[0m\u001b[1;33m\u001b[0m\u001b[0m\n\u001b[0m\u001b[0;32m    156\u001b[0m \u001b[1;32mfrom\u001b[0m \u001b[0mtheano\u001b[0m\u001b[1;33m.\u001b[0m\u001b[0mtensor\u001b[0m\u001b[1;33m.\u001b[0m\u001b[0mblas_headers\u001b[0m \u001b[1;32mimport\u001b[0m \u001b[0mblas_header_version\u001b[0m\u001b[1;33m\u001b[0m\u001b[0m\n\u001b[0;32m    157\u001b[0m \u001b[1;32mfrom\u001b[0m \u001b[0mtheano\u001b[0m\u001b[1;33m.\u001b[0m\u001b[0mtensor\u001b[0m\u001b[1;33m.\u001b[0m\u001b[0mopt\u001b[0m \u001b[1;32mimport\u001b[0m \u001b[0min2out\u001b[0m\u001b[1;33m,\u001b[0m \u001b[0mlocal_dimshuffle_lift\u001b[0m\u001b[1;33m\u001b[0m\u001b[0m\n",
      "\u001b[1;32mC:\\ProgramData\\Anaconda3\\lib\\site-packages\\theano\\tensor\\blas_headers.py\u001b[0m in \u001b[0;36m<module>\u001b[1;34m()\u001b[0m\n\u001b[0;32m    985\u001b[0m \u001b[1;33m\u001b[0m\u001b[0m\n\u001b[0;32m    986\u001b[0m \u001b[1;33m\u001b[0m\u001b[0m\n\u001b[1;32m--> 987\u001b[1;33m \u001b[1;32mif\u001b[0m \u001b[1;32mnot\u001b[0m \u001b[0mconfig\u001b[0m\u001b[1;33m.\u001b[0m\u001b[0mblas\u001b[0m\u001b[1;33m.\u001b[0m\u001b[0mldflags\u001b[0m\u001b[1;33m:\u001b[0m\u001b[1;33m\u001b[0m\u001b[0m\n\u001b[0m\u001b[0;32m    988\u001b[0m     \u001b[0m_logger\u001b[0m\u001b[1;33m.\u001b[0m\u001b[0mwarning\u001b[0m\u001b[1;33m(\u001b[0m\u001b[1;34m'Using NumPy C-API based implementation for BLAS functions.'\u001b[0m\u001b[1;33m)\u001b[0m\u001b[1;33m\u001b[0m\u001b[0m\n\u001b[0;32m    989\u001b[0m \u001b[1;33m\u001b[0m\u001b[0m\n",
      "\u001b[1;32mC:\\ProgramData\\Anaconda3\\lib\\site-packages\\theano\\configparser.py\u001b[0m in \u001b[0;36m__get__\u001b[1;34m(self, cls, type_, delete_key)\u001b[0m\n\u001b[0;32m    330\u001b[0m             \u001b[1;32mexcept\u001b[0m \u001b[0mKeyError\u001b[0m\u001b[1;33m:\u001b[0m\u001b[1;33m\u001b[0m\u001b[0m\n\u001b[0;32m    331\u001b[0m                 \u001b[1;32mif\u001b[0m \u001b[0mcallable\u001b[0m\u001b[1;33m(\u001b[0m\u001b[0mself\u001b[0m\u001b[1;33m.\u001b[0m\u001b[0mdefault\u001b[0m\u001b[1;33m)\u001b[0m\u001b[1;33m:\u001b[0m\u001b[1;33m\u001b[0m\u001b[0m\n\u001b[1;32m--> 332\u001b[1;33m                     \u001b[0mval_str\u001b[0m \u001b[1;33m=\u001b[0m \u001b[0mself\u001b[0m\u001b[1;33m.\u001b[0m\u001b[0mdefault\u001b[0m\u001b[1;33m(\u001b[0m\u001b[1;33m)\u001b[0m\u001b[1;33m\u001b[0m\u001b[0m\n\u001b[0m\u001b[0;32m    333\u001b[0m                 \u001b[1;32melse\u001b[0m\u001b[1;33m:\u001b[0m\u001b[1;33m\u001b[0m\u001b[0m\n\u001b[0;32m    334\u001b[0m                     \u001b[0mval_str\u001b[0m \u001b[1;33m=\u001b[0m \u001b[0mself\u001b[0m\u001b[1;33m.\u001b[0m\u001b[0mdefault\u001b[0m\u001b[1;33m\u001b[0m\u001b[0m\n",
      "\u001b[1;32mC:\\ProgramData\\Anaconda3\\lib\\site-packages\\theano\\configdefaults.py\u001b[0m in \u001b[0;36mdefault_blas_ldflags\u001b[1;34m()\u001b[0m\n\u001b[0;32m   1414\u001b[0m             flags.extend(['-Wl,-rpath,' + l for l in\n\u001b[0;32m   1415\u001b[0m                           blas_info.get('library_dirs', [])])\n\u001b[1;32m-> 1416\u001b[1;33m             \u001b[0mres\u001b[0m \u001b[1;33m=\u001b[0m \u001b[0mtry_blas_flag\u001b[0m\u001b[1;33m(\u001b[0m\u001b[0mflags\u001b[0m\u001b[1;33m)\u001b[0m\u001b[1;33m\u001b[0m\u001b[0m\n\u001b[0m\u001b[0;32m   1417\u001b[0m             \u001b[1;32mif\u001b[0m \u001b[0mres\u001b[0m\u001b[1;33m:\u001b[0m\u001b[1;33m\u001b[0m\u001b[0m\n\u001b[0;32m   1418\u001b[0m                 \u001b[0mcheck_mkl_openmp\u001b[0m\u001b[1;33m(\u001b[0m\u001b[1;33m)\u001b[0m\u001b[1;33m\u001b[0m\u001b[0m\n",
      "\u001b[1;32mC:\\ProgramData\\Anaconda3\\lib\\site-packages\\theano\\configdefaults.py\u001b[0m in \u001b[0;36mtry_blas_flag\u001b[1;34m(flags)\u001b[0m\n\u001b[0;32m   1506\u001b[0m     res = GCC_compiler.try_compile_tmp(\n\u001b[0;32m   1507\u001b[0m         \u001b[0mtest_code\u001b[0m\u001b[1;33m,\u001b[0m \u001b[0mtmp_prefix\u001b[0m\u001b[1;33m=\u001b[0m\u001b[1;34m'try_blas_'\u001b[0m\u001b[1;33m,\u001b[0m\u001b[1;33m\u001b[0m\u001b[0m\n\u001b[1;32m-> 1508\u001b[1;33m         flags=cflags, try_run=True)\n\u001b[0m\u001b[0;32m   1509\u001b[0m     \u001b[1;31m# res[0]: shows successful compilation\u001b[0m\u001b[1;33m\u001b[0m\u001b[1;33m\u001b[0m\u001b[0m\n\u001b[0;32m   1510\u001b[0m     \u001b[1;31m# res[1]: shows successful execution\u001b[0m\u001b[1;33m\u001b[0m\u001b[1;33m\u001b[0m\u001b[0m\n",
      "\u001b[1;32mC:\\ProgramData\\Anaconda3\\lib\\site-packages\\theano\\gof\\cmodule.py\u001b[0m in \u001b[0;36mtry_compile_tmp\u001b[1;34m(cls, src_code, tmp_prefix, flags, try_run, output, comp_args)\u001b[0m\n\u001b[0;32m   2201\u001b[0m         return cls._try_compile_tmp(src_code, tmp_prefix, flags,\n\u001b[0;32m   2202\u001b[0m                                     \u001b[0mtry_run\u001b[0m\u001b[1;33m,\u001b[0m \u001b[0moutput\u001b[0m\u001b[1;33m,\u001b[0m \u001b[0mtheano\u001b[0m\u001b[1;33m.\u001b[0m\u001b[0mconfig\u001b[0m\u001b[1;33m.\u001b[0m\u001b[0mcxx\u001b[0m\u001b[1;33m,\u001b[0m\u001b[1;33m\u001b[0m\u001b[0m\n\u001b[1;32m-> 2203\u001b[1;33m                                     comp_args)\n\u001b[0m\u001b[0;32m   2204\u001b[0m \u001b[1;33m\u001b[0m\u001b[0m\n\u001b[0;32m   2205\u001b[0m     \u001b[1;33m@\u001b[0m\u001b[0mclassmethod\u001b[0m\u001b[1;33m\u001b[0m\u001b[0m\n",
      "\u001b[1;32mC:\\ProgramData\\Anaconda3\\lib\\site-packages\\theano\\gof\\cmodule.py\u001b[0m in \u001b[0;36m_try_compile_tmp\u001b[1;34m(cls, src_code, tmp_prefix, flags, try_run, output, compiler, comp_args)\u001b[0m\n\u001b[0;32m   1798\u001b[0m                 \u001b[0mfd\u001b[0m \u001b[1;33m=\u001b[0m \u001b[1;32mNone\u001b[0m\u001b[1;33m\u001b[0m\u001b[0m\n\u001b[0;32m   1799\u001b[0m                 out, err, p_ret = output_subprocess_Popen(\n\u001b[1;32m-> 1800\u001b[1;33m                     [compiler] + args + [path, '-o', exe_path] + flags)\n\u001b[0m\u001b[0;32m   1801\u001b[0m                 \u001b[1;32mif\u001b[0m \u001b[0mp_ret\u001b[0m \u001b[1;33m!=\u001b[0m \u001b[1;36m0\u001b[0m\u001b[1;33m:\u001b[0m\u001b[1;33m\u001b[0m\u001b[0m\n\u001b[0;32m   1802\u001b[0m                     \u001b[0mcompilation_ok\u001b[0m \u001b[1;33m=\u001b[0m \u001b[1;32mFalse\u001b[0m\u001b[1;33m\u001b[0m\u001b[0m\n",
      "\u001b[1;32mC:\\ProgramData\\Anaconda3\\lib\\site-packages\\theano\\misc\\windows.py\u001b[0m in \u001b[0;36moutput_subprocess_Popen\u001b[1;34m(command, **params)\u001b[0m\n\u001b[0;32m     78\u001b[0m     \u001b[1;31m# we need to use communicate to make sure we don't deadlock around\u001b[0m\u001b[1;33m\u001b[0m\u001b[1;33m\u001b[0m\u001b[0m\n\u001b[0;32m     79\u001b[0m     \u001b[1;31m# the stdout/stderr pipe.\u001b[0m\u001b[1;33m\u001b[0m\u001b[1;33m\u001b[0m\u001b[0m\n\u001b[1;32m---> 80\u001b[1;33m     \u001b[0mout\u001b[0m \u001b[1;33m=\u001b[0m \u001b[0mp\u001b[0m\u001b[1;33m.\u001b[0m\u001b[0mcommunicate\u001b[0m\u001b[1;33m(\u001b[0m\u001b[1;33m)\u001b[0m\u001b[1;33m\u001b[0m\u001b[0m\n\u001b[0m\u001b[0;32m     81\u001b[0m     \u001b[1;32mreturn\u001b[0m \u001b[0mout\u001b[0m \u001b[1;33m+\u001b[0m \u001b[1;33m(\u001b[0m\u001b[0mp\u001b[0m\u001b[1;33m.\u001b[0m\u001b[0mreturncode\u001b[0m\u001b[1;33m,\u001b[0m\u001b[1;33m)\u001b[0m\u001b[1;33m\u001b[0m\u001b[0m\n",
      "\u001b[1;32mC:\\ProgramData\\Anaconda3\\lib\\subprocess.py\u001b[0m in \u001b[0;36mcommunicate\u001b[1;34m(self, input, timeout)\u001b[0m\n\u001b[0;32m    841\u001b[0m \u001b[1;33m\u001b[0m\u001b[0m\n\u001b[0;32m    842\u001b[0m             \u001b[1;32mtry\u001b[0m\u001b[1;33m:\u001b[0m\u001b[1;33m\u001b[0m\u001b[0m\n\u001b[1;32m--> 843\u001b[1;33m                 \u001b[0mstdout\u001b[0m\u001b[1;33m,\u001b[0m \u001b[0mstderr\u001b[0m \u001b[1;33m=\u001b[0m \u001b[0mself\u001b[0m\u001b[1;33m.\u001b[0m\u001b[0m_communicate\u001b[0m\u001b[1;33m(\u001b[0m\u001b[0minput\u001b[0m\u001b[1;33m,\u001b[0m \u001b[0mendtime\u001b[0m\u001b[1;33m,\u001b[0m \u001b[0mtimeout\u001b[0m\u001b[1;33m)\u001b[0m\u001b[1;33m\u001b[0m\u001b[0m\n\u001b[0m\u001b[0;32m    844\u001b[0m             \u001b[1;32mfinally\u001b[0m\u001b[1;33m:\u001b[0m\u001b[1;33m\u001b[0m\u001b[0m\n\u001b[0;32m    845\u001b[0m                 \u001b[0mself\u001b[0m\u001b[1;33m.\u001b[0m\u001b[0m_communication_started\u001b[0m \u001b[1;33m=\u001b[0m \u001b[1;32mTrue\u001b[0m\u001b[1;33m\u001b[0m\u001b[0m\n",
      "\u001b[1;32mC:\\ProgramData\\Anaconda3\\lib\\subprocess.py\u001b[0m in \u001b[0;36m_communicate\u001b[1;34m(self, input, endtime, orig_timeout)\u001b[0m\n\u001b[0;32m   1090\u001b[0m             \u001b[1;31m# calls communicate again.\u001b[0m\u001b[1;33m\u001b[0m\u001b[1;33m\u001b[0m\u001b[0m\n\u001b[0;32m   1091\u001b[0m             \u001b[1;32mif\u001b[0m \u001b[0mself\u001b[0m\u001b[1;33m.\u001b[0m\u001b[0mstdout\u001b[0m \u001b[1;32mis\u001b[0m \u001b[1;32mnot\u001b[0m \u001b[1;32mNone\u001b[0m\u001b[1;33m:\u001b[0m\u001b[1;33m\u001b[0m\u001b[0m\n\u001b[1;32m-> 1092\u001b[1;33m                 \u001b[0mself\u001b[0m\u001b[1;33m.\u001b[0m\u001b[0mstdout_thread\u001b[0m\u001b[1;33m.\u001b[0m\u001b[0mjoin\u001b[0m\u001b[1;33m(\u001b[0m\u001b[0mself\u001b[0m\u001b[1;33m.\u001b[0m\u001b[0m_remaining_time\u001b[0m\u001b[1;33m(\u001b[0m\u001b[0mendtime\u001b[0m\u001b[1;33m)\u001b[0m\u001b[1;33m)\u001b[0m\u001b[1;33m\u001b[0m\u001b[0m\n\u001b[0m\u001b[0;32m   1093\u001b[0m                 \u001b[1;32mif\u001b[0m \u001b[0mself\u001b[0m\u001b[1;33m.\u001b[0m\u001b[0mstdout_thread\u001b[0m\u001b[1;33m.\u001b[0m\u001b[0mis_alive\u001b[0m\u001b[1;33m(\u001b[0m\u001b[1;33m)\u001b[0m\u001b[1;33m:\u001b[0m\u001b[1;33m\u001b[0m\u001b[0m\n\u001b[0;32m   1094\u001b[0m                     \u001b[1;32mraise\u001b[0m \u001b[0mTimeoutExpired\u001b[0m\u001b[1;33m(\u001b[0m\u001b[0mself\u001b[0m\u001b[1;33m.\u001b[0m\u001b[0margs\u001b[0m\u001b[1;33m,\u001b[0m \u001b[0morig_timeout\u001b[0m\u001b[1;33m)\u001b[0m\u001b[1;33m\u001b[0m\u001b[0m\n",
      "\u001b[1;32mC:\\ProgramData\\Anaconda3\\lib\\threading.py\u001b[0m in \u001b[0;36mjoin\u001b[1;34m(self, timeout)\u001b[0m\n\u001b[0;32m   1054\u001b[0m \u001b[1;33m\u001b[0m\u001b[0m\n\u001b[0;32m   1055\u001b[0m         \u001b[1;32mif\u001b[0m \u001b[0mtimeout\u001b[0m \u001b[1;32mis\u001b[0m \u001b[1;32mNone\u001b[0m\u001b[1;33m:\u001b[0m\u001b[1;33m\u001b[0m\u001b[0m\n\u001b[1;32m-> 1056\u001b[1;33m             \u001b[0mself\u001b[0m\u001b[1;33m.\u001b[0m\u001b[0m_wait_for_tstate_lock\u001b[0m\u001b[1;33m(\u001b[0m\u001b[1;33m)\u001b[0m\u001b[1;33m\u001b[0m\u001b[0m\n\u001b[0m\u001b[0;32m   1057\u001b[0m         \u001b[1;32melse\u001b[0m\u001b[1;33m:\u001b[0m\u001b[1;33m\u001b[0m\u001b[0m\n\u001b[0;32m   1058\u001b[0m             \u001b[1;31m# the behavior of a negative timeout isn't documented, but\u001b[0m\u001b[1;33m\u001b[0m\u001b[1;33m\u001b[0m\u001b[0m\n",
      "\u001b[1;32mC:\\ProgramData\\Anaconda3\\lib\\threading.py\u001b[0m in \u001b[0;36m_wait_for_tstate_lock\u001b[1;34m(self, block, timeout)\u001b[0m\n\u001b[0;32m   1070\u001b[0m         \u001b[1;32mif\u001b[0m \u001b[0mlock\u001b[0m \u001b[1;32mis\u001b[0m \u001b[1;32mNone\u001b[0m\u001b[1;33m:\u001b[0m  \u001b[1;31m# already determined that the C code is done\u001b[0m\u001b[1;33m\u001b[0m\u001b[0m\n\u001b[0;32m   1071\u001b[0m             \u001b[1;32massert\u001b[0m \u001b[0mself\u001b[0m\u001b[1;33m.\u001b[0m\u001b[0m_is_stopped\u001b[0m\u001b[1;33m\u001b[0m\u001b[0m\n\u001b[1;32m-> 1072\u001b[1;33m         \u001b[1;32melif\u001b[0m \u001b[0mlock\u001b[0m\u001b[1;33m.\u001b[0m\u001b[0macquire\u001b[0m\u001b[1;33m(\u001b[0m\u001b[0mblock\u001b[0m\u001b[1;33m,\u001b[0m \u001b[0mtimeout\u001b[0m\u001b[1;33m)\u001b[0m\u001b[1;33m:\u001b[0m\u001b[1;33m\u001b[0m\u001b[0m\n\u001b[0m\u001b[0;32m   1073\u001b[0m             \u001b[0mlock\u001b[0m\u001b[1;33m.\u001b[0m\u001b[0mrelease\u001b[0m\u001b[1;33m(\u001b[0m\u001b[1;33m)\u001b[0m\u001b[1;33m\u001b[0m\u001b[0m\n\u001b[0;32m   1074\u001b[0m             \u001b[0mself\u001b[0m\u001b[1;33m.\u001b[0m\u001b[0m_stop\u001b[0m\u001b[1;33m(\u001b[0m\u001b[1;33m)\u001b[0m\u001b[1;33m\u001b[0m\u001b[0m\n",
      "\u001b[1;31mKeyboardInterrupt\u001b[0m: "
     ]
    }
   ],
   "source": [
    "import numpy as np\n",
    "from sklearn import linear_model\n",
    "from sklearn.cross_validation import KFold, StratifiedKFold, cross_val_score\n",
    "from sklearn.metrics import accuracy_score, f1_score\n",
    "from sknn.mlp import Regressor, Layer, Classifier\n",
    "from sklearn.grid_search import GridSearchCV\n",
    "from sknn.platform import gpu32\n",
    "import os\n",
    "\n",
    "accept = np.loadtxt('words/accept.txt',delimiter=',');\n",
    "accept_X = accept[:, 1:accept.shape[1]]\n",
    "accept_y = accept[:, -1]\n",
    "\n",
    "\n",
    "#lrmodel = linear_model.LogisticRegression(max_iter=500)\n",
    "#lrmodel.fit(accept_X, accept_y)\n",
    "#yhat = lrmodel.predict(accept_X)\n",
    "#accuracy = sum(accept_y == yhat)/accept_y.shape[0]\n",
    "#print(accuracy)\n",
    "#gs = GridSearchCV(lrmodel, param_grid={\n",
    "#    'C': [0.1, 1, 5, 10],\n",
    "#    'solver': ['newton-cg', 'lbfgs'],\n",
    "#    'multi_class': ['ovr', 'multinomial'],\n",
    "#    'random_state': [True, False]\n",
    "#    });\n",
    "#gs.fit(accept_X, accept_y);\n",
    "#print(gs.best_params_)\n",
    "#yhat=gs.predict(accept_X)\n",
    "#accuracy = accuracy_score(accept_y, yhat)\n",
    "#print(accuracy)\n",
    "#x_num = accept_X.shape[0]\n",
    "#train_num = int(accept_X.shape[0] * 0.8)\n",
    "#train_num = accept_X.shape[0]\n",
    "#lrmodel = linear_model.LogisticRegression()\n",
    "#lrmodel.fit(accept_X[0:train_num,:], accept_y[0:train_num])\n",
    "#yhat = lrmodel.predict(accept_X[train_num:-1,:])\n",
    "#accuracy = sum(accept_y[train_num:-1] == yhat)/accept_y[train_num:-1].shape[0]\n",
    "#print(accuracy)\n",
    "\n",
    "#clf = MLPClassifier(solver='lbfgs', alpha=1e-5,  hidden_layer_sizes=(15,), random_state=1)\n",
    "\n",
    "\n",
    "#nn = Classifier(layers=[Layer(\"Sigmoid\", units=25, weight_decay=0.1), Layer(\"Softmax\")],learning_rate=0.03,n_iter=100);\n",
    "#\n",
    "#gs = GridSearchCV(nn, param_grid={\n",
    "#    'hidden0__units': np.arange(5, 40, 5),\n",
    "##    'hidden0__type': [\"Sigmoid\", \"Tanh\"],\n",
    "#    'learning_rate': np.arange(0.01, 0.1, 0.03, 0.06)\n",
    "##    'hidden0__weight_decay': [0.01, 0.1, 1, 10]\n",
    "#    });\n",
    "#gs.fit(accept_X, accept_y);\n",
    "#print(gs.best_params_)\n",
    "##\n",
    "###nn.fit(accept_X, accept_y)\n",
    "#yhat=gs.predict(accept_X)\n",
    "#accuracy = accuracy_score(accept_y, yhat)\n",
    "#print(accuracy)\n",
    "#\n",
    "#kf = KFold(x_num, n_folds=5, shuffle=True);\n",
    "#accu_list = [];\n",
    "#for train_index, test_index in kf:\n",
    "##    print(train_index.shape)\n",
    "##    print(test_index.shape)\n",
    "#    lrmodel = linear_model.LogisticRegression(C=1, max_iter=1000, solver='newton-cg')\n",
    "##    lrmodel.fit(accept_X[train_index,:], accept_y[train_index])\n",
    "##    yhat = lrmodel.predict(accept_X[test_index,:])\n",
    "##    accuracy = float(sum(accept_y[test_index] == yhat))/test_index.shape[0]\n",
    "#    \n",
    "#\n",
    "#    \n",
    "##    nn = Classifier(layers=[Layer(\"Sigmoid\", units=25), Layer(\"Softmax\")],learning_rate=0.03,n_iter=200)\n",
    "##    nn.fit(accept_X[train_index,:], accept_y[train_index])\n",
    "##    yhat = nn.predict(accept_X[test_index,:])\n",
    "##    accuracy = accuracy_score(accept_y[test_index], yhat)\n",
    "##    print(accuracy)\n",
    "##    accu_list.append(accuracy)\n",
    "##\n",
    "#print(np.mean(accu_list))\n",
    "\n",
    "\n",
    "rootdir = \"words/\"\n",
    "name_dict_lr = {}\n",
    "idx_dict_lr = {}\n",
    "i = 0\n",
    "lrmodels_lr = {}\n",
    "accuracies_lr = {}\n",
    "models_lr = {}\n",
    "f1scores_lr = {}\n",
    "nums_lr = {}\n",
    "for parent,dirnames,filenames in os.walk(rootdir):  \n",
    "    for filename in filenames:\n",
    "        print(filename)\n",
    "        \n",
    "        accept = np.loadtxt(rootdir + filename,delimiter=',');\n",
    "        accept_X = accept[:, 1:accept.shape[1]]\n",
    "        accept_y = accept[:, -1]\n",
    "        name_dict_lr[filename] = i\n",
    "        idx_dict_lr[i] = filename\n",
    "        \n",
    "        uniquecount= len(np.unique(accept_y));\n",
    "        \n",
    "        if(uniquecount == 1): \n",
    "            continue;\n",
    "#        lrmodels[i] = linear_model.LogisticRegression(max_iter=500)\n",
    "        #lrmodel.fit(accept_X, accept_y)\n",
    "        #yhat = lrmodel.predict(accept_X)\n",
    "        #accuracy = sum(accept_y == yhat)/accept_y.shape[0]\n",
    "        #print(accuracy)\n",
    "#        gs[i] = GridSearchCV(lrmodels[i], param_grid={\n",
    "#            'C': [0.1, 1, 5, 10],\n",
    "##            'solver': ['newton-cg', 'lbfgs'],\n",
    "##            'multi_class': ['ovr', 'multinomial'],\n",
    "##            'random_state': [True, False]\n",
    "#            });\n",
    "#        gs[i].fit(accept_X, accept_y);\n",
    "#        print(gs[i].best_params_)\n",
    "#        temp_C=gs[i].best_params_['C']\n",
    "        \n",
    "        \n",
    "        kf = KFold(accept_X.shape[0], n_folds=5, shuffle=True);\n",
    "        accu_list_lr = [];\n",
    "        f1_list_lr=[];\n",
    "        for train_index, test_index in kf:\n",
    "#            print(train_index.shape)\n",
    "#            print(test_index.shape)\n",
    "            templrmodel = linear_model.LogisticRegression(\n",
    "                          C= 1, solver='newton-cg', multi_class='multinomial', random_state=True, max_iter=500)\n",
    "            templrmodel.fit(accept_X[train_index, :], accept_y[train_index])\n",
    "            yhat = templrmodel.predict(accept_X[test_index,:])\n",
    "            accuracy = accuracy_score(accept_y[test_index], yhat)\n",
    "            f1score = f1_score(accept_y[test_index], yhat, average='micro')\n",
    "#            print(accuracy)\n",
    "            accu_list_lr.append(accuracy)\n",
    "            f1_list_lr.append(f1score);\n",
    "        \n",
    "        print(np.mean(f1_list), f1_list)\n",
    "        print(np.mean(accu_list), accu_list)\n",
    "        accuracies_lr[i] = np.mean(accu_list)\n",
    "        f1scores_lr[i]=np.mean(f1_list)\n",
    "        nums_lr[i] = accept_X.shape[0]\n",
    "        i += 1;"
   ]
  },
  {
   "cell_type": "code",
   "execution_count": 10,
   "metadata": {},
   "outputs": [
    {
     "name": "stdout",
     "output_type": "stream",
     "text": [
      "0.26666666666666666\n",
      "0.3333333333333333\n",
      "0.26666666666666666\n",
      "[0.8 0.  0. ]\n",
      "0.3333333333333333\n"
     ]
    }
   ],
   "source": [
    "from sklearn.metrics import f1_score\n",
    "y_true = [0, 1, 2, 0, 1, 2]\n",
    "y_pred = [0, 2, 1, 0, 0, 1]\n",
    "print( f1_score(y_true, y_pred, average='macro')   )\n",
    "print( f1_score(y_true, y_pred, average='micro')   )\n",
    "print( f1_score(y_true, y_pred, average='weighted')  )\n",
    "print( f1_score(y_true, y_pred, average=None) )\n",
    "print( accuracy_score(y_true, y_pred) )"
   ]
  },
  {
   "cell_type": "code",
   "execution_count": 9,
   "metadata": {
    "scrolled": true
   },
   "outputs": [
    {
     "name": "stdout",
     "output_type": "stream",
     "text": [
      "be.txt\n"
     ]
    },
    {
     "name": "stderr",
     "output_type": "stream",
     "text": [
      "C:\\ProgramData\\Anaconda3\\lib\\site-packages\\sklearn\\metrics\\classification.py:1135: UndefinedMetricWarning: F-score is ill-defined and being set to 0.0 in labels with no predicted samples.\n",
      "  'precision', 'predicted', average, warn_for)\n"
     ]
    },
    {
     "name": "stdout",
     "output_type": "stream",
     "text": [
      "0.6534090909090909\n",
      "0.30663315598317614\n",
      "0.6534090909090909\n",
      "0.5795613044979412\n",
      "child.txt\n",
      "0.5952380952380952\n",
      "0.46031746031746035\n",
      "0.5952380952380952\n",
      "0.5759637188208616\n",
      "have.txt\n",
      "0.5450819672131147\n",
      "0.4007752530546001\n",
      "0.5450819672131147\n",
      "0.45702176980014547\n",
      "more.txt\n",
      "0.7819548872180451\n",
      "0.615055923338049\n",
      "0.7819548872180451\n",
      "0.7587057051573066\n",
      "result.txt\n",
      "0.7843137254901961\n",
      "0.7865185960424056\n",
      "0.7843137254901961\n",
      "0.7839283861692825\n",
      "seem.txt\n",
      "0.8728813559322034\n",
      "0.638701775872627\n",
      "0.8728813559322034\n",
      "0.8605561148764362\n"
     ]
    }
   ],
   "source": [
    "import numpy as np\n",
    "from sklearn import linear_model\n",
    "from sklearn.cross_validation import KFold, StratifiedKFold, cross_val_score\n",
    "from sklearn.metrics import accuracy_score, f1_score\n",
    "# from sknn.mlp import Regressor, Layer, Classifier\n",
    "from sklearn.grid_search import GridSearchCV\n",
    "# from sknn.platform import gpu32\n",
    "import os\n",
    "# rootdir = \"multi_sense_all/\"\n",
    "Xtraindir = 'word_pos_large/X_train/'\n",
    "Ytraindir = 'word_pos_large/Y_train/'\n",
    "Xtestdir = 'word_pos_large/X_test/'\n",
    "Ytestdir = 'word_pos_large/Y_test/'\n",
    "\n",
    "name_dict_lr2 = {}\n",
    "idx_dict_lr2 = {}\n",
    "i = 0\n",
    "lrmodels_lr2 = {}\n",
    "accuracies_lr2 = {}\n",
    "models_lr2 = {}\n",
    "f1scores_1 = {}\n",
    "f1scores_2 = {}\n",
    "f1scores_3 = {}\n",
    "nums_lr2 = {}\n",
    "for parent,dirnames,filenames in os.walk(Xtraindir):  \n",
    "    for filename in filenames:\n",
    "        print(filename)\n",
    "        \n",
    "#         accept = np.loadtxt(rootdir + filename,delimiter=',');\n",
    "        X_train = np.loadtxt(Xtraindir + filename,delimiter=',');\n",
    "        Y_train = np.loadtxt(Ytraindir + filename,delimiter=',');\n",
    "        X_test = np.loadtxt(Xtestdir + filename,delimiter=',');\n",
    "        Y_test = np.loadtxt(Ytestdir + filename,delimiter=',');\n",
    "        name_dict_lr2[filename] = i\n",
    "        idx_dict_lr2[i] = filename\n",
    "        \n",
    "#         uniquecount= len(np.unique(accept_y));\n",
    "        \n",
    "#         if(uniquecount == 1): \n",
    "#             continue;\n",
    " \n",
    "#         kf = KFold(accept_X.shape[0], n_folds=5, shuffle=True);\n",
    "\n",
    "        templrmodel = linear_model.LogisticRegression(\n",
    "                      C= 1, solver='newton-cg', multi_class='multinomial', random_state=True, max_iter=500)\n",
    "        templrmodel.fit(X_train, Y_train)\n",
    "        yhat = templrmodel.predict(X_test)\n",
    "        accuracy = accuracy_score(Y_test, yhat)\n",
    "        \n",
    "#         gs = GridSearchCV(templrmodel, param_grid={\n",
    "#            'C': [0.1, 1, 5, 10],\n",
    "#            'solver': ['newton-cg', 'lbfgs'],\n",
    "#            'multi_class': ['ovr', 'multinomial'],\n",
    "#            'random_state': [True, False]\n",
    "#            });\n",
    "#         gs.fit(X_train, Y_train);\n",
    "#         yhat = gs.predict(X_test)\n",
    "        accuracy = accuracy_score(Y_test, yhat)\n",
    "        f1score1 = f1_score(Y_test, yhat, average='macro')\n",
    "        f1score2 = f1_score(Y_test, yhat, average='micro')\n",
    "        f1score3 = f1_score(Y_test, yhat, average='weighted')\n",
    "#         f1score = f1_score(accept_y[test_index], yhat, average='micro')\n",
    "#            print(accuracy)\n",
    "#         accu_list_lr2.append(accuracy)\n",
    "#         f1_list_lr2.append(f1score);\n",
    "        \n",
    "#         print(np.mean(f1_list), f1_list)\n",
    "        print(accuracy)\n",
    "        print(f1score1)\n",
    "        print(f1score2)\n",
    "        print(f1score3)\n",
    "        \n",
    "        accuracies_lr2[i] = accuracy\n",
    "        f1scores_1[i] = f1score1\n",
    "        f1scores_2[i] = f1score2\n",
    "        f1scores_3[i] = f1score3\n",
    "        \n",
    "#         f1scores_lr2[i]=np.mean(f1_list)\n",
    "#         nums_lr2[i] = accept_X.shape[0]\n",
    "        i += 1;"
   ]
  },
  {
   "cell_type": "code",
   "execution_count": 6,
   "metadata": {},
   "outputs": [
    {
     "name": "stdout",
     "output_type": "stream",
     "text": [
      "accept.txt\n"
     ]
    },
    {
     "ename": "NameError",
     "evalue": "name 'Classifier' is not defined",
     "output_type": "error",
     "traceback": [
      "\u001b[1;31m---------------------------------------------------------------------------\u001b[0m",
      "\u001b[1;31mNameError\u001b[0m                                 Traceback (most recent call last)",
      "\u001b[1;32m<ipython-input-6-0c09d6e5b9c8>\u001b[0m in \u001b[0;36m<module>\u001b[1;34m()\u001b[0m\n\u001b[0;32m     39\u001b[0m \u001b[1;31m#             continue;\u001b[0m\u001b[1;33m\u001b[0m\u001b[1;33m\u001b[0m\u001b[0m\n\u001b[0;32m     40\u001b[0m \u001b[1;33m\u001b[0m\u001b[0m\n\u001b[1;32m---> 41\u001b[1;33m         \u001b[0mtemplrmodel\u001b[0m \u001b[1;33m=\u001b[0m \u001b[0mClassifier\u001b[0m\u001b[1;33m(\u001b[0m\u001b[0mlayers\u001b[0m\u001b[1;33m=\u001b[0m\u001b[1;33m[\u001b[0m\u001b[0mLayer\u001b[0m\u001b[1;33m(\u001b[0m\u001b[1;34m\"Sigmoid\"\u001b[0m\u001b[1;33m,\u001b[0m \u001b[0munits\u001b[0m\u001b[1;33m=\u001b[0m\u001b[1;36m25\u001b[0m\u001b[1;33m)\u001b[0m\u001b[1;33m,\u001b[0m \u001b[0mLayer\u001b[0m\u001b[1;33m(\u001b[0m\u001b[1;34m\"Softmax\"\u001b[0m\u001b[1;33m)\u001b[0m\u001b[1;33m]\u001b[0m\u001b[1;33m,\u001b[0m\u001b[0mlearning_rate\u001b[0m\u001b[1;33m=\u001b[0m\u001b[1;36m0.03\u001b[0m\u001b[1;33m,\u001b[0m\u001b[0mn_iter\u001b[0m\u001b[1;33m=\u001b[0m\u001b[1;36m100\u001b[0m\u001b[1;33m)\u001b[0m\u001b[1;33m;\u001b[0m\u001b[1;31m#, weight_decay=0.1\u001b[0m\u001b[1;33m\u001b[0m\u001b[0m\n\u001b[0m\u001b[0;32m     42\u001b[0m         \u001b[0mtemplrmodel\u001b[0m\u001b[1;33m.\u001b[0m\u001b[0mfit\u001b[0m\u001b[1;33m(\u001b[0m\u001b[0mX_train\u001b[0m\u001b[1;33m,\u001b[0m \u001b[0mY_train\u001b[0m\u001b[1;33m)\u001b[0m\u001b[1;33m\u001b[0m\u001b[0m\n\u001b[0;32m     43\u001b[0m         \u001b[0myhat\u001b[0m \u001b[1;33m=\u001b[0m \u001b[0mtemplrmodel\u001b[0m\u001b[1;33m.\u001b[0m\u001b[0mpredict\u001b[0m\u001b[1;33m(\u001b[0m\u001b[0mX_test\u001b[0m\u001b[1;33m)\u001b[0m\u001b[1;33m\u001b[0m\u001b[0m\n",
      "\u001b[1;31mNameError\u001b[0m: name 'Classifier' is not defined"
     ]
    }
   ],
   "source": [
    "import numpy as np\n",
    "from sklearn import linear_model\n",
    "from sklearn.cross_validation import KFold, StratifiedKFold, cross_val_score\n",
    "from sklearn.metrics import accuracy_score, f1_score\n",
    "# from sknn.mlp import Regressor, Layer, Classifier\n",
    "from sklearn.grid_search import GridSearchCV\n",
    "# from sknn.platform import gpu32\n",
    "import os\n",
    "\n",
    "rootdir = \"multi_sense_all/\"\n",
    "Xtraindir = 'X_train/'\n",
    "Ytraindir = 'Y_train/'\n",
    "Xtestdir = 'X_test/'\n",
    "Ytestdir = 'Y_test/'\n",
    "\n",
    "name_dict = {}\n",
    "idx_dict = {}\n",
    "i = 0\n",
    "lrmodels = {}\n",
    "accuracies = {}\n",
    "models = {}\n",
    "f1scores = {}\n",
    "nums = {}\n",
    "for parent,dirnames,filenames in os.walk(rootdir):  \n",
    "    for filename in filenames:\n",
    "        print(filename)\n",
    "        \n",
    "#         accept = np.loadtxt(rootdir + filename,delimiter=',');\n",
    "        X_train = np.loadtxt(Xtraindir + filename,delimiter=',');\n",
    "        Y_train = np.loadtxt(Ytraindir + filename,delimiter=',');\n",
    "        X_test = np.loadtxt(Xtestdir + filename,delimiter=',');\n",
    "        Y_test = np.loadtxt(Ytestdir + filename,delimiter=',');\n",
    "        name_dict[filename] = i\n",
    "        idx_dict[i] = filename\n",
    "        \n",
    "#         uniquecount= len(np.unique(accept_y));\n",
    "        \n",
    "#         if(uniquecount == 1): \n",
    "#             continue;\n",
    "\n",
    "        templrmodel = Classifier(layers=[Layer(\"Sigmoid\", units=25), Layer(\"Softmax\")],learning_rate=0.03,n_iter=100);#, weight_decay=0.1\n",
    "        templrmodel.fit(X_train, Y_train)\n",
    "        yhat = templrmodel.predict(X_test)\n",
    "        accuracy = accuracy_score(Y_test, yhat)\n",
    "#         f1score = f1_score(accept_y[test_index], yhat, average='micro')\n",
    "#            print(accuracy)\n",
    "#         accu_list.append(accuracy)\n",
    "#         f1_list.append(f1score);\n",
    "        \n",
    "#         print(np.mean(f1_list), f1_list)\n",
    "        print(accuracy)\n",
    "        accuracies[i] = accuracy\n",
    "#         f1scores[i]=np.mean(f1_list)\n",
    "        nums[i] = accept_X.shape[0]\n",
    "        i += 1;"
   ]
  },
  {
   "cell_type": "code",
   "execution_count": 5,
   "metadata": {
    "scrolled": true
   },
   "outputs": [
    {
     "data": {
      "text/plain": [
       "0.6456415554751477"
      ]
     },
     "execution_count": 5,
     "metadata": {},
     "output_type": "execute_result"
    }
   ],
   "source": [
    "np.mean(list(accuracies_lr2.values()))"
   ]
  },
  {
   "cell_type": "code",
   "execution_count": 6,
   "metadata": {},
   "outputs": [],
   "source": [
    "np.savetxt('accuracylr2_1.txt', np.array(list(accuracies_lr2.values())), delimiter=',')"
   ]
  },
  {
   "cell_type": "code",
   "execution_count": 6,
   "metadata": {
    "scrolled": true
   },
   "outputs": [
    {
     "data": {
      "text/plain": [
       "0.5404781631438085"
      ]
     },
     "execution_count": 6,
     "metadata": {},
     "output_type": "execute_result"
    }
   ],
   "source": [
    "np.mean(list(f1scores_1.values()))"
   ]
  },
  {
   "cell_type": "code",
   "execution_count": 8,
   "metadata": {},
   "outputs": [
    {
     "data": {
      "text/plain": [
       "0.6456415554751476"
      ]
     },
     "execution_count": 8,
     "metadata": {},
     "output_type": "execute_result"
    }
   ],
   "source": [
    "np.mean(list(f1scores_2.values()))"
   ]
  },
  {
   "cell_type": "code",
   "execution_count": 9,
   "metadata": {},
   "outputs": [
    {
     "data": {
      "text/plain": [
       "0.6243898772151643"
      ]
     },
     "execution_count": 9,
     "metadata": {},
     "output_type": "execute_result"
    }
   ],
   "source": [
    "np.mean(list(f1scores_3.values()))"
   ]
  },
  {
   "cell_type": "code",
   "execution_count": 7,
   "metadata": {},
   "outputs": [],
   "source": [
    "np.savetxt('f1scorelrmodel_1.txt', np.array(list(f1scores_3.values())), delimiter=',')"
   ]
  },
  {
   "cell_type": "code",
   "execution_count": 10,
   "metadata": {},
   "outputs": [],
   "source": [
    "np.savetxt('accuracylr2_large.txt', np.array(list(accuracies_lr2.values())), delimiter=',')\n",
    "np.savetxt('f1scorelrmodel_large.txt', np.array(list(f1scores_3.values())), delimiter=',')"
   ]
  },
  {
   "cell_type": "code",
   "execution_count": null,
   "metadata": {},
   "outputs": [],
   "source": []
  }
 ],
 "metadata": {
  "kernelspec": {
   "display_name": "Python 3",
   "language": "python",
   "name": "python3"
  },
  "language_info": {
   "codemirror_mode": {
    "name": "ipython",
    "version": 3
   },
   "file_extension": ".py",
   "mimetype": "text/x-python",
   "name": "python",
   "nbconvert_exporter": "python",
   "pygments_lexer": "ipython3",
   "version": "3.6.4"
  }
 },
 "nbformat": 4,
 "nbformat_minor": 2
}
